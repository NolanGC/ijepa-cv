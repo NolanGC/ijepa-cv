{
 "cells": [
  {
   "cell_type": "code",
   "execution_count": 1,
   "id": "0ed8e215-5d23-4c6d-9a98-1d37b9ed8e48",
   "metadata": {
    "tags": []
   },
   "outputs": [],
   "source": [
    "import torch\n",
    "import torch.nn as nn\n",
    "import torch.optim as optim"
   ]
  },
  {
   "cell_type": "code",
   "execution_count": 2,
   "id": "b9b4171c-77a6-4786-8f6a-cf3202541bf7",
   "metadata": {
    "tags": []
   },
   "outputs": [],
   "source": [
    "encoder = torch.load('mickeyencoder.pth')"
   ]
  },
  {
   "cell_type": "code",
   "execution_count": 3,
   "id": "f9ddb04a-dbf9-4be7-9ccd-f283c5327190",
   "metadata": {
    "tags": []
   },
   "outputs": [],
   "source": [
    "class DOX(nn.Module):\n",
    "    def __init__(self, encoder, num_classes):\n",
    "        super(DOX, self).__init__()\n",
    "        self.encoder = encoder\n",
    "        self.classifier = nn.Linear(1280, num_classes)\n",
    "\n",
    "    def forward(self, x):\n",
    "        with torch.no_grad():\n",
    "            x = self.encoder(x)\n",
    "        x = self.classifier(x)\n",
    "        return x"
   ]
  },
  {
   "cell_type": "code",
   "execution_count": 4,
   "id": "de3c09c0-9e4c-477a-a069-3e8b1bc38366",
   "metadata": {
    "tags": []
   },
   "outputs": [],
   "source": [
    "for param in encoder.parameters():\n",
    "    param.requires_grad = False"
   ]
  },
  {
   "cell_type": "code",
   "execution_count": 5,
   "id": "febd3f10-1db3-470b-b8d5-29f31e860fe0",
   "metadata": {
    "tags": []
   },
   "outputs": [],
   "source": [
    "import random\n",
    "import os\n",
    "import re\n",
    "import msgpack\n",
    "from io import BytesIO\n",
    "from PIL import Image\n",
    "import torch\n",
    "from typing import Union, List, Optional\n",
    "from pathlib import Path\n",
    "\n",
    "class MsgPackIterableDataset(torch.utils.data.IterableDataset):\n",
    "    def __init__(\n",
    "        self,\n",
    "        path: Union[str, List[str]],\n",
    "        key_img_id: str = \"id\",\n",
    "        key_img_encoded: str = \"image\",\n",
    "        transformation=None,\n",
    "        shuffle=False,\n",
    "        split: str = \"train\",\n",
    "        split_ratio: float = 0.8,\n",
    "        cache_size=6 * 4096,\n",
    "    ):\n",
    "        super(MsgPackIterableDataset, self).__init__()\n",
    "        self.path = path\n",
    "        self.cache_size = cache_size\n",
    "        self.transformation = transformation\n",
    "        self.shuffle = shuffle\n",
    "        self.split = split\n",
    "        self.split_ratio = split_ratio\n",
    "        self.seed = random.randint(1, 100)\n",
    "        self.key_img_id = key_img_id.encode(\"utf-8\")\n",
    "        self.key_img_encoded = key_img_encoded.encode(\"utf-8\")\n",
    "\n",
    "        if not isinstance(self.path, (list, set)):\n",
    "            self.path = [self.path]\n",
    "\n",
    "        self.shards = self.__init_shards(self.path)\n",
    "        self.shard_indices = self._split_shards()\n",
    "\n",
    "    @staticmethod\n",
    "    def __init_shards(path: Union[str, Path]) -> list:\n",
    "        shards = []\n",
    "        for i, p in enumerate(path):\n",
    "            shards_re = r\"shard_(\\d+).msg\"\n",
    "            shards_index = [\n",
    "                int(re.match(shards_re, x).group(1))\n",
    "                for x in os.listdir(p)\n",
    "                if re.match(shards_re, x)\n",
    "            ]\n",
    "            shards.extend(\n",
    "                [\n",
    "                    {\n",
    "                        \"path_index\": i,\n",
    "                        \"path\": p,\n",
    "                        \"shard_index\": s,\n",
    "                        \"shard_path\": os.path.join(p, f\"shard_{s}.msg\"),\n",
    "                    }\n",
    "                    for s in shards_index\n",
    "                ]\n",
    "            )\n",
    "        if len(shards) == 0:\n",
    "            raise ValueError(\"No shards found\")\n",
    "\n",
    "        return shards\n",
    "\n",
    "    def _split_shards(self):\n",
    "        random.seed(self.seed)\n",
    "        random.shuffle(self.shards)\n",
    "        split_point = int(len(self.shards) * self.split_ratio)\n",
    "        if self.split == \"train\":\n",
    "            return self.shards[:split_point]\n",
    "        else:\n",
    "            return self.shards[split_point:]\n",
    "\n",
    "    def _process_sample(self, x):\n",
    "        img = Image.open(BytesIO(x[self.key_img_encoded]))\n",
    "        if img.mode != \"RGB\":\n",
    "            img = img.convert(\"RGB\")\n",
    "\n",
    "        if self.transformation:\n",
    "            img = self.transformation(img)\n",
    "\n",
    "        _id = x[self.key_img_id].decode(\"utf-8\")\n",
    "        return img, _id\n",
    "\n",
    "    def __iter__(self):\n",
    "        shard_indices = list(range(len(self.shard_indices)))\n",
    "\n",
    "        if self.shuffle:\n",
    "            random.seed(self.seed)\n",
    "            random.shuffle(shard_indices)\n",
    "\n",
    "        worker_info = torch.utils.data.get_worker_info()\n",
    "        if worker_info is not None:\n",
    "            def split_list(alist, splits=1):\n",
    "                length = len(alist)\n",
    "                return [alist[i * length // splits: (i + 1) * length // splits] for i in range(splits)]\n",
    "\n",
    "            shard_indices_split = split_list(shard_indices, worker_info.num_workers)[worker_info.id]\n",
    "        else:\n",
    "            shard_indices_split = shard_indices\n",
    "\n",
    "        cache = []\n",
    "\n",
    "        for shard_index in shard_indices_split:\n",
    "            shard = self.shard_indices[shard_index]\n",
    "\n",
    "            with open(shard['shard_path'], 'rb') as f:\n",
    "                unpacker = msgpack.Unpacker(f, max_buffer_size=1024 * 1024 * 1024, raw=True)\n",
    "                for x in unpacker:\n",
    "                    if x is None:\n",
    "                        continue\n",
    "\n",
    "                    if len(cache) < self.cache_size:\n",
    "                        cache.append(x)\n",
    "\n",
    "                    if len(cache) == self.cache_size:\n",
    "                        if self.shuffle:\n",
    "                            random.shuffle(cache)\n",
    "                        while cache:\n",
    "                            yield self._process_sample(cache.pop())\n",
    "        if self.shuffle:\n",
    "            random.shuffle(cache)\n",
    "\n",
    "        while cache:\n",
    "            yield self._process_sample(cache.pop())\n",
    "\n"
   ]
  },
  {
   "cell_type": "code",
   "execution_count": 6,
   "id": "1e91c595-3636-4159-a629-4350e70e60bc",
   "metadata": {
    "tags": []
   },
   "outputs": [],
   "source": [
    "from src.transforms import make_transforms\n",
    "\n",
    "crop_size = 224\n",
    "crop_scale = [0.8, 1.0]\n",
    "use_gaussian_blur = False\n",
    "use_horizontal_flip = False\n",
    "use_color_distortion = False\n",
    "color_jitter = 0.0\n",
    "\n",
    "transform = make_transforms(\n",
    "    crop_size=crop_size,\n",
    "    crop_scale=crop_scale,\n",
    "    gaussian_blur=use_gaussian_blur,\n",
    "    horizontal_flip=use_horizontal_flip,\n",
    "    color_distortion=use_color_distortion,\n",
    "    color_jitter=color_jitter)"
   ]
  },
  {
   "cell_type": "code",
   "execution_count": 7,
   "id": "510a056e-d25e-4109-b136-da70e3114b22",
   "metadata": {
    "tags": []
   },
   "outputs": [],
   "source": [
    "import json\n",
    "with open('output_square_ids.json', 'r') as file:\n",
    "    img_cell = json.load(file)"
   ]
  },
  {
   "cell_type": "code",
   "execution_count": 8,
   "id": "0fda09b2-fd5b-4d98-9473-639abd33650b",
   "metadata": {
    "tags": []
   },
   "outputs": [],
   "source": [
    "def get_labels(loc_ids):\n",
    "    try:\n",
    "        labels = []\n",
    "        for loc in loc_ids:\n",
    "            one_hot = torch.zeros((419, ))\n",
    "            one_hot[img_cell[loc]] = 1\n",
    "            labels.append(one_hot.to(\"cuda:0\"))\n",
    "        return torch.stack(labels).long()\n",
    "    except:\n",
    "        return None"
   ]
  },
  {
   "cell_type": "code",
   "execution_count": 9,
   "id": "48845af6-4249-4e55-a233-6e6fc55070ab",
   "metadata": {
    "tags": []
   },
   "outputs": [],
   "source": [
    "model = DOX(encoder, 419)"
   ]
  },
  {
   "cell_type": "code",
   "execution_count": 10,
   "id": "af81c3c4-9f7a-494c-8cb2-147a05af9d49",
   "metadata": {
    "tags": []
   },
   "outputs": [],
   "source": [
    "criterion = nn.CrossEntropyLoss()\n",
    "optimizer = optim.Adam(model.parameters(), lr=0.001)"
   ]
  },
  {
   "cell_type": "code",
   "execution_count": 11,
   "id": "07b766d0-eea6-46bf-b50a-f006b741a214",
   "metadata": {
    "tags": []
   },
   "outputs": [],
   "source": [
    "root='/nobackup/users/nolangc/mp16'"
   ]
  },
  {
   "cell_type": "code",
   "execution_count": 12,
   "id": "0fe15f87-3916-48c7-b341-f72923c919e1",
   "metadata": {
    "tags": []
   },
   "outputs": [],
   "source": [
    "train_dataset = MsgPackIterableDataset(path=root, transformation=transform, split=\"train\", split_ratio=0.8)\n",
    "test_dataset = MsgPackIterableDataset(path=root, transformation=transform, split=\"test\", split_ratio=0.8)"
   ]
  },
  {
   "cell_type": "code",
   "execution_count": 13,
   "id": "645978d5-0887-435a-a50a-d5f44efccd73",
   "metadata": {
    "tags": []
   },
   "outputs": [],
   "source": [
    "train_loader = torch.utils.data.DataLoader(\n",
    "        train_dataset,\n",
    "        batch_size=16,\n",
    "        drop_last=False,\n",
    "        pin_memory=False,\n",
    "        num_workers=4,\n",
    "        persistent_workers=False)"
   ]
  },
  {
   "cell_type": "code",
   "execution_count": 14,
   "id": "6bca05c3-ec92-4529-afcf-498b4a37e896",
   "metadata": {
    "tags": []
   },
   "outputs": [],
   "source": [
    "torch.cuda.empty_cache()"
   ]
  },
  {
   "cell_type": "code",
   "execution_count": 23,
   "id": "65eeb12a-10c7-4e8f-9edf-b8575f923b14",
   "metadata": {
    "tags": []
   },
   "outputs": [],
   "source": [
    "from tqdm import tqdm\n",
    "\n",
    "def train(model, data_loader, criterion, optimizer, num_epochs, device, log_file=\"training_log.txt\"):\n",
    "    model.train()  # Set the model to training mode\n",
    "    model.to(device)  # Ensure the model is on the correct device\n",
    "\n",
    "    with open(log_file, mode='w') as file:\n",
    "        file.write(\"Epoch, Batch, Batch Loss, Average Loss\\n\")\n",
    "        file.flush()\n",
    "\n",
    "        for epoch in range(num_epochs):\n",
    "            total_loss = 0\n",
    "            processed_batches = 0\n",
    "\n",
    "            for batch_idx, (image_data, loc_ids) in enumerate(tqdm(data_loader)):\n",
    "                try:\n",
    "                    image_data = image_data.to(device)\n",
    "                    labels = get_labels(loc_ids)\n",
    "                    if labels is None:\n",
    "                        file.write(f\"Skipping batch {batch_idx + 1} due to no labels.\\n\")\n",
    "                        file.flush()\n",
    "                        continue\n",
    "                    labels = labels.to(device).long()\n",
    "\n",
    "                    optimizer.zero_grad()\n",
    "                    outputs = model(image_data)\n",
    "                    loss = criterion(outputs, labels)\n",
    "                    loss.backward()\n",
    "                    optimizer.step()\n",
    "\n",
    "                    batch_loss = loss.item()\n",
    "                    total_loss += batch_loss\n",
    "                    processed_batches += 1\n",
    "\n",
    "                    # Log the batch loss to the text file and flush to ensure it's written immediately\n",
    "                    file.write(f\"{epoch + 1}, {batch_idx + 1}, {batch_loss}, \\n\")\n",
    "                    file.flush()\n",
    "\n",
    "                except Exception as e:\n",
    "                    file.write(f\"Error at epoch {epoch + 1}, batch {batch_idx + 1}: {e}\\n\")\n",
    "                    file.flush()\n",
    "                    continue\n",
    "\n",
    "            if processed_batches > 0:\n",
    "                avg_loss = total_loss / processed_batches\n",
    "            else:\n",
    "                avg_loss = 0\n",
    "\n",
    "            # Log the average loss at the end of the epoch to the text file\n",
    "            file.write(f\"{epoch + 1}, Epoch Summary, , {avg_loss}\\n\")\n",
    "            file.flush()\n",
    "            print(f\"Epoch {epoch + 1}/{num_epochs}, Average Loss: {avg_loss}\")\n",
    "\n"
   ]
  },
  {
   "cell_type": "code",
   "execution_count": null,
   "id": "5757792c-6c42-4244-9fbd-4026e9ea6c12",
   "metadata": {
    "tags": []
   },
   "outputs": [
    {
     "name": "stderr",
     "output_type": "stream",
     "text": [
      "6243it [44:54,  2.18it/s]"
     ]
    }
   ],
   "source": [
    "train(model, train_loader, criterion, optimizer, 1, \"cuda:0\")"
   ]
  }
 ],
 "metadata": {
  "kernelspec": {
   "display_name": "Python 3 (ipykernel)",
   "language": "python",
   "name": "python3"
  },
  "language_info": {
   "codemirror_mode": {
    "name": "ipython",
    "version": 3
   },
   "file_extension": ".py",
   "mimetype": "text/x-python",
   "name": "python",
   "nbconvert_exporter": "python",
   "pygments_lexer": "ipython3",
   "version": "3.10.13"
  }
 },
 "nbformat": 4,
 "nbformat_minor": 5
}
